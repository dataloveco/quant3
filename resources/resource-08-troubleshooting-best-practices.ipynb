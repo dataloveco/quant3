{
 "cells": [
  {
   "cell_type": "markdown",
   "id": "2efd103b",
   "metadata": {},
   "source": [
    "# Resource 08: Troubleshooting & Best Practices\n",
    "This notebook covers common Python errors, how to debug, and general best practices for writing clean and understandable code."
   ]
  },
  {
   "cell_type": "markdown",
   "id": "76a0972e",
   "metadata": {},
   "source": [
    "## Common Error Messages\n",
    "**1. ImportError / ModuleNotFoundError**\n",
    "Occurs when a package is not installed.\n",
    "```python\n",
    "ImportError: No module named 'pandas'\n",
    "```\n",
    "➡️ Solution: `!pip install pandas` or `!conda install pandas`\n",
    "\n",
    "**2. KeyError / AttributeError**\n",
    "Occurs when referencing a missing column or attribute.\n",
    "```python\n",
    "KeyError: 'Price'\n",
    "AttributeError: 'DataFrame' object has no attribute 'describee'\n",
    "```\n",
    "➡️ Double-check spelling and syntax.\n",
    "\n",
    "**3. WRDS Connection Errors**\n",
    "Usually caused by:\n",
    "- Incorrect credentials\n",
    "- Duo 2FA timeout\n",
    "- Missing .env file"
   ]
  },
  {
   "cell_type": "markdown",
   "id": "35bb4c65",
   "metadata": {},
   "source": [
    "## File Path Problems\n",
    "**Error:** `FileNotFoundError: [Errno 2] No such file or directory`\n",
    "- Check file name and path spelling\n",
    "- Use tab autocomplete\n",
    "- Use `os.getcwd()` to check current directory"
   ]
  },
  {
   "cell_type": "markdown",
   "id": "7ca144a5",
   "metadata": {},
   "source": [
    "## Debugging Strategies\n",
    "- Read the **full error message** carefully\n",
    "- Add `print()` statements to check variable values\n",
    "- Comment out blocks of code to isolate the issue\n",
    "- Restart the kernel if behavior seems off"
   ]
  },
  {
   "cell_type": "markdown",
   "id": "336a9c5f",
   "metadata": {},
   "source": [
    "### Example"
   ]
  },
  {
   "cell_type": "code",
   "execution_count": null,
   "id": "97323d0e",
   "metadata": {},
   "outputs": [],
   "source": [
    "mylist = [1, 2, 3]\n",
    "print(mylist[5])  # IndexError: list index out of range"
   ]
  },
  {
   "cell_type": "markdown",
   "id": "68c16a72",
   "metadata": {},
   "source": [
    "## Best Practices for Clean Code\n",
    "- Add **comments** to explain steps\n",
    "- Use **meaningful variable names**\n",
    "- Keep cells short and focused\n",
    "- Use **functions** to avoid repeating code"
   ]
  },
  {
   "cell_type": "code",
   "execution_count": null,
   "id": "2ff5c0b7",
   "metadata": {},
   "outputs": [],
   "source": [
    "def calculate_growth(start, end):\n",
    "    \"\"\"Calculate percentage growth between two numbers.\"\"\"\n",
    "    return (end - start) / start"
   ]
  },
  {
   "cell_type": "markdown",
   "id": "3c0237a6",
   "metadata": {},
   "source": [
    "## Try This Yourself\n",
    "- Break a sample cell and fix the error\n",
    "- Add comments to a notebook you've already written\n",
    "- Create and test a small function"
   ]
  },
  {
   "cell_type": "markdown",
   "id": "4c049b93",
   "metadata": {},
   "source": [
    "## Summary\n",
    "- Errors are normal! Learn to read and interpret them\n",
    "- Use debugging tools like `print()` and restart the kernel often\n",
    "- Writing clean code makes debugging much easier\n",
    "\n",
    "In the next resource, you'll learn about managing packages and your coding environment."
   ]
  }
 ],
 "metadata": {},
 "nbformat": 4,
 "nbformat_minor": 5
}
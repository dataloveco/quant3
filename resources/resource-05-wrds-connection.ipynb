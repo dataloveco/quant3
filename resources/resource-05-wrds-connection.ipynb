{
 "cells": [
  {
   "cell_type": "markdown",
   "id": "901808c7",
   "metadata": {},
   "source": [
    "# Resource 05: WRDS Database Connection\n",
    "This notebook explains how to securely connect to the Wharton Research Data Services (WRDS) database and retrieve financial data using SQL queries in Python."
   ]
  },
  {
   "cell_type": "markdown",
   "id": "7f74c124",
   "metadata": {},
   "source": [
    "## Environment Setup for WRDS\n",
    "Before you can connect, you need to install the required Python packages. Run the following in your terminal or a notebook cell:"
   ]
  },
  {
   "cell_type": "code",
   "execution_count": null,
   "id": "0dff1db3",
   "metadata": {},
   "outputs": [],
   "source": [
    "!pip install wrds psycopg2-binary python-dotenv"
   ]
  },
  {
   "cell_type": "markdown",
   "id": "d9169783",
   "metadata": {},
   "source": [
    "### Create a `.env` File for Credentials\n",
    "To keep your username and password secure, create a `.env` file in your working directory with the following contents:\n",
    "\n",
    "```\n",
    "WRDS_USERNAME=your_wrds_username\n",
    "WRDS_PASSWORD=your_wrds_password\n",
    "```\n",
    "**Important:** Never upload your `.env` file to GitHub. Add it to your `.gitignore` file."
   ]
  },
  {
   "cell_type": "markdown",
   "id": "63005e72",
   "metadata": {},
   "source": [
    "## Understanding WRDS\n",
    "- WRDS is a platform that provides access to various financial, accounting, and economic databases.\n",
    "- You’ll use SQL to query data tables (e.g., Compustat, CRSP, Execucomp).\n",
    "- Each dataset is organized into schemas and tables."
   ]
  },
  {
   "cell_type": "markdown",
   "id": "801dc93c",
   "metadata": {},
   "source": [
    "## Connect to WRDS\n",
    "Use the following code to securely connect to WRDS using your `.env` file."
   ]
  },
  {
   "cell_type": "code",
   "execution_count": null,
   "id": "d6bf3c46",
   "metadata": {},
   "outputs": [],
   "source": [
    "import os\n",
    "from dotenv import load_dotenv\n",
    "import wrds\n",
    "\n",
    "load_dotenv()\n",
    "\n",
    "username = os.getenv(\"WRDS_USERNAME\")\n",
    "password = os.getenv(\"WRDS_PASSWORD\")\n",
    "\n",
    "try:\n",
    "    db = wrds.Connection(wrds_username=username, wrds_password=password)\n",
    "    print(\"Connected to WRDS.\")\n",
    "except Exception as e:\n",
    "    print(\"Connection failed:\", e)"
   ]
  },
  {
   "cell_type": "markdown",
   "id": "5ed5c112",
   "metadata": {},
   "source": [
    "## Explore Available Tables\n",
    "Once connected, you can explore the databases and tables you have access to:"
   ]
  },
  {
   "cell_type": "code",
   "execution_count": null,
   "id": "6a369a33",
   "metadata": {},
   "outputs": [],
   "source": [
    "# List all libraries (schemas)\n",
    "db.list_libraries()\n",
    "\n",
    "# List all tables in the 'comp' library\n",
    "db.list_tables(library='comp')"
   ]
  },
  {
   "cell_type": "markdown",
   "id": "9f1684f9",
   "metadata": {},
   "source": [
    "## Query Example: Pull Data from Execucomp\n",
    "Here’s how to query and preview a small sample of data:"
   ]
  },
  {
   "cell_type": "code",
   "execution_count": null,
   "id": "c672705a",
   "metadata": {},
   "outputs": [],
   "source": [
    "query = \"\"\"\n",
    "SELECT gvkey, execid, year, salary, bonus, total_sec\n",
    "FROM comp.execucomp\n",
    "LIMIT 5\n",
    "\"\"\"\n",
    "\n",
    "df = db.raw_sql(query)\n",
    "df.head()"
   ]
  },
  {
   "cell_type": "markdown",
   "id": "1744b0da",
   "metadata": {},
   "source": [
    "## Handling Common Errors\n",
    "- Ensure your `.env` file is saved in the same directory as your notebook.\n",
    "- If using 2FA (two-factor authentication), approve the prompt on your phone.\n",
    "- If you see a `ModuleNotFoundError`, re-check that you've installed the required packages.\n",
    "- Double-check your WRDS credentials and username spelling."
   ]
  },
  {
   "cell_type": "markdown",
   "id": "9eefd27e",
   "metadata": {},
   "source": [
    "## Summary\n",
    "- Installed required libraries and created a secure credential file\n",
    "- Connected to WRDS and retrieved data using SQL\n",
    "- Explored available libraries and pulled a sample from Execucomp\n",
    "\n",
    "You're now ready to begin financial analysis using real-world data."
   ]
  }
 ],
 "metadata": {},
 "nbformat": 4,
 "nbformat_minor": 5
}
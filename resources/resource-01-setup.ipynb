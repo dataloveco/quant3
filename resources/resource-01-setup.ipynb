{
 "cells": [
  {
   "cell_type": "markdown",
   "id": "1b18773a",
   "metadata": {},
   "source": [
    "# Resource 01: Getting Started with Anaconda and Jupyter\n",
    "This notebook provides instructions for setting up your Python environment using Anaconda and launching Jupyter Lab or Jupyter Notebook. It includes support for both Mac and Windows users."
   ]
  },
  {
   "cell_type": "markdown",
   "id": "1f78da1b",
   "metadata": {},
   "source": [
    "## Step 1: Download and Install Anaconda\n",
    "**Instructions for Mac and Windows:**\n",
    "1. Go to the [Anaconda Downloads page](https://www.anaconda.com/products/distribution)\n",
    "2. Download the installer for your operating system\n",
    "3. Follow the on-screen installation instructions (use default settings)\n",
    "\n",
    "Screenshot reference: (screenshots/anaconda_mac_install.png)"
   ]
  },
  {
   "cell_type": "markdown",
   "id": "f532afa3",
   "metadata": {},
   "source": [
    "## Step 2: Launch Jupyter\n",
    "**Option A: Using Anaconda Navigator**\n",
    "- Open Anaconda Navigator\n",
    "- Click 'Launch' next to Jupyter Lab or Jupyter Notebook\n",
    "\n",
    "**Option B: Using Command Line**\n",
    "- Mac: Open the Terminal\n",
    "- Windows: Open Anaconda Prompt or Command Prompt\n",
    "\n",
    "Then enter one of the following commands:\n",
    "\n",
    "```bash\n",
    "jupyter lab     # Recommended\n",
    "jupyter notebook\n",
    "```\n",
    "This will open Jupyter in your default web browser."
   ]
  },
  {
   "cell_type": "markdown",
   "id": "1a8569f1",
   "metadata": {},
   "source": [
    "## Step 3: What Did You Just Install?\n",
    "Anaconda includes:\n",
    "- Python 3.x\n",
    "- Jupyter Lab and Jupyter Notebook\n",
    "- Common packages like pandas, numpy, matplotlib\n",
    "\n",
    "Screenshot reference: (screenshots/anaconda_navigator_overview.png)"
   ]
  },
  {
   "cell_type": "markdown",
   "id": "6af674c2",
   "metadata": {},
   "source": [
    "## Try This Yourself\n",
    "Run the following code to verify that your notebook is working and to check your Python version."
   ]
  },
  {
   "cell_type": "code",
   "execution_count": null,
   "id": "1777db3d",
   "metadata": {},
   "outputs": [],
   "source": [
    "import sys\n",
    "print(f'Your Python version is: {sys.version}')"
   ]
  },
  {
   "cell_type": "markdown",
   "id": "3e36a0da",
   "metadata": {},
   "source": [
    "## Bonus: Understanding Your Working Directory\n",
    "Use this command to check the folder where your notebook is currently running."
   ]
  },
  {
   "cell_type": "code",
   "execution_count": null,
   "id": "e5372a96",
   "metadata": {},
   "outputs": [],
   "source": [
    "import os\n",
    "os.getcwd()"
   ]
  },
  {
   "cell_type": "markdown",
   "id": "6dab68ff",
   "metadata": {},
   "source": [
    "## Summary\n",
    "- Installed Anaconda\n",
    "- Launched Jupyter successfully\n",
    "- Verified Python setup and environment\n",
    "\n",
    "You are now ready to begin working in Python. Proceed to the next resource to learn how to use Jupyter effectively."
   ]
  }
 ],
 "metadata": {
  "kernelspec": {
   "display_name": "Python [conda env:base] *",
   "language": "python",
   "name": "conda-base-py"
  },
  "language_info": {
   "codemirror_mode": {
    "name": "ipython",
    "version": 3
   },
   "file_extension": ".py",
   "mimetype": "text/x-python",
   "name": "python",
   "nbconvert_exporter": "python",
   "pygments_lexer": "ipython3",
   "version": "3.11.7"
  }
 },
 "nbformat": 4,
 "nbformat_minor": 5
}

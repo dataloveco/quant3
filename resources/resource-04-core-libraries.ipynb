{
 "cells": [
  {
   "cell_type": "markdown",
   "id": "6c67715b",
   "metadata": {},
   "source": [
    "# Resource 04: Core Libraries for Financial Analysis\n",
    "This notebook introduces three essential Python libraries for working with financial data:\n",
    "- pandas: for data manipulation\n",
    "- numpy: for numerical operations\n",
    "- matplotlib/seaborn: for data visualization"
   ]
  },
  {
   "cell_type": "markdown",
   "id": "c08d3415",
   "metadata": {},
   "source": [
    "## pandas: Working with DataFrames\n",
    "pandas provides powerful tools for working with structured data. The primary object types are:\n",
    "- `DataFrame`: table-like structure (rows and columns)\n",
    "- `Series`: single column of data\n",
    "\n",
    "Let's load a simple CSV file and explore it."
   ]
  },
  {
   "cell_type": "code",
   "execution_count": null,
   "id": "4575452e",
   "metadata": {},
   "outputs": [],
   "source": [
    "import pandas as pd\n",
    "\n",
    "data = {\n",
    "    'Company': ['AAPL', 'MSFT', 'GOOG'],\n",
    "    'Price': [195.33, 320.55, 130.12],\n",
    "    'PE_Ratio': [32.4, 28.7, 25.5]\n",
    "}\n",
    "df = pd.DataFrame(data)\n",
    "df"
   ]
  },
  {
   "cell_type": "markdown",
   "id": "b79f36b8",
   "metadata": {},
   "source": [
    "### Basic Data Exploration\n",
    "Use the following methods to learn about your data:"
   ]
  },
  {
   "cell_type": "code",
   "execution_count": null,
   "id": "c51a4f1e",
   "metadata": {},
   "outputs": [],
   "source": [
    "df.head()\n",
    "df.info()\n",
    "df.describe()"
   ]
  },
  {
   "cell_type": "markdown",
   "id": "ccac4ce2",
   "metadata": {},
   "source": [
    "### Selecting Columns and Filtering Rows"
   ]
  },
  {
   "cell_type": "code",
   "execution_count": null,
   "id": "02ffaf99",
   "metadata": {},
   "outputs": [],
   "source": [
    "df['Price']\n",
    "df[df['PE_Ratio'] > 30]"
   ]
  },
  {
   "cell_type": "markdown",
   "id": "19aa2d57",
   "metadata": {},
   "source": [
    "### Handling Missing Values"
   ]
  },
  {
   "cell_type": "code",
   "execution_count": null,
   "id": "8a7d1b2a",
   "metadata": {},
   "outputs": [],
   "source": [
    "df_with_na = df.copy()\n",
    "df_with_na.loc[1, 'Price'] = None\n",
    "df_with_na.isna()\n",
    "df_with_na.fillna(0)"
   ]
  },
  {
   "cell_type": "markdown",
   "id": "96390e55",
   "metadata": {},
   "source": [
    "## numpy: Working with Arrays\n",
    "numpy is used for fast numerical computations and array-based operations."
   ]
  },
  {
   "cell_type": "code",
   "execution_count": null,
   "id": "77b04ee0",
   "metadata": {},
   "outputs": [],
   "source": [
    "import numpy as np\n",
    "\n",
    "returns = np.array([0.05, -0.02, 0.07])\n",
    "mean_return = np.mean(returns)\n",
    "std_dev = np.std(returns)\n",
    "print(\"Mean:\", mean_return)\n",
    "print(\"Std Dev:\", std_dev)"
   ]
  },
  {
   "cell_type": "markdown",
   "id": "6fcf1008",
   "metadata": {},
   "source": [
    "### Mathematical Functions"
   ]
  },
  {
   "cell_type": "code",
   "execution_count": null,
   "id": "ab536703",
   "metadata": {},
   "outputs": [],
   "source": [
    "log_returns = np.log(1 + returns)\n",
    "log_returns"
   ]
  },
  {
   "cell_type": "markdown",
   "id": "a035a880",
   "metadata": {},
   "source": [
    "## matplotlib & seaborn: Visualizing Data\n",
    "Use these libraries to create plots and charts."
   ]
  },
  {
   "cell_type": "code",
   "execution_count": null,
   "id": "f002e4de",
   "metadata": {},
   "outputs": [],
   "source": [
    "import matplotlib.pyplot as plt\n",
    "import seaborn as sns\n",
    "\n",
    "plt.plot(df['Company'], df['Price'])\n",
    "plt.title(\"Stock Prices\")\n",
    "plt.xlabel(\"Company\")\n",
    "plt.ylabel(\"Price\")\n",
    "plt.show()"
   ]
  },
  {
   "cell_type": "code",
   "execution_count": null,
   "id": "799e16a4",
   "metadata": {},
   "outputs": [],
   "source": [
    "sns.boxplot(data=df, y='PE_Ratio')"
   ]
  },
  {
   "cell_type": "markdown",
   "id": "f6def11a",
   "metadata": {},
   "source": [
    "## Try This Yourself\n",
    "- Add a new company to the DataFrame\n",
    "- Create a histogram of a numerical column\n",
    "- Replace a missing value using `.fillna()`"
   ]
  },
  {
   "cell_type": "markdown",
   "id": "32f35ce1",
   "metadata": {},
   "source": [
    "## Summary\n",
    "- pandas helps you load and manipulate financial data\n",
    "- numpy is great for vectorized math operations\n",
    "- matplotlib and seaborn are used for plotting and visualizing trends\n",
    "\n",
    "In the next resource, you’ll learn how to connect to WRDS and query real financial data."
   ]
  }
 ],
 "metadata": {},
 "nbformat": 4,
 "nbformat_minor": 5
}
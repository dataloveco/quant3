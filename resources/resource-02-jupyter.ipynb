{
 "cells": [
  {
   "cell_type": "markdown",
   "id": "eb1d6310",
   "metadata": {},
   "source": [
    "# Resource 02: Navigating the Jupyter Interface\n",
    "This notebook introduces the Jupyter Lab interface and explains how to navigate, edit, and organize your code and notes."
   ]
  },
  {
   "cell_type": "markdown",
   "id": "5612f212",
   "metadata": {},
   "source": [
    "## Overview of Jupyter Lab vs. Jupyter Notebook\n",
    "**Jupyter Lab** offers a more flexible, tab-based interface.\n",
    "**Jupyter Notebook** is a simpler, linear document-style interface.\n",
    "\n",
    "For this course, we recommend Jupyter Lab.\n",
    "\n",
    "Screenshot reference: (screenshots/jupyter_lab_vs_notebook.png)"
   ]
  },
  {
   "cell_type": "markdown",
   "id": "96281e54",
   "metadata": {},
   "source": [
    "## Jupyter Interface Basics\n",
    "- **File Browser**: Lists files and folders in your current directory\n",
    "- **Tabs**: Each notebook or terminal opens in a new tab\n",
    "- **Launcher**: Start new notebooks, consoles, or terminals\n",
    "- **Top Menu Bar**: Save, insert cells, run code, and more\n",
    "\n",
    "Screenshot reference: (screenshots/jupyter_lab_interface.png)"
   ]
  },
  {
   "cell_type": "markdown",
   "id": "d592dc75",
   "metadata": {},
   "source": [
    "## Cell Types and Modes\n",
    "**Two main cell types:**\n",
    "- **Code**: For writing and running Python code\n",
    "- **Markdown**: For adding text, headings, and notes\n",
    "\n",
    "**Modes:**\n",
    "- **Edit Mode**: When typing inside a cell (press Enter)\n",
    "- **Command Mode**: When no cell is being edited (press Esc)"
   ]
  },
  {
   "cell_type": "markdown",
   "id": "3272f2d2",
   "metadata": {},
   "source": [
    "## Common Keyboard Shortcuts\n",
    "- `Shift + Enter`: Run the current cell\n",
    "- `A`: Insert a new cell above\n",
    "- `B`: Insert a new cell below\n",
    "- `D + D`: Delete current cell\n",
    "- `M`: Change to Markdown\n",
    "- `Y`: Change to Code\n",
    "\n",
    "Try a few of these now."
   ]
  },
  {
   "cell_type": "markdown",
   "id": "e6c9fa29",
   "metadata": {},
   "source": [
    "## Try This Yourself: Create and Run a Code Cell\n",
    "In the cell below, modify the message and re-run it."
   ]
  },
  {
   "cell_type": "code",
   "execution_count": null,
   "id": "770fb710",
   "metadata": {},
   "outputs": [],
   "source": [
    "print(\"Welcome to Jupyter!\")"
   ]
  },
  {
   "cell_type": "markdown",
   "id": "fbda4dbf",
   "metadata": {},
   "source": [
    "## Try This Yourself: Add a Markdown Cell\n",
    "Click on an empty cell or insert a new one below, change the cell type to Markdown, and add a heading like this:\n",
    "\n",
    "`## This is a heading`\n",
    "\n",
    "Then run the cell using `Shift + Enter`."
   ]
  },
  {
   "cell_type": "markdown",
   "id": "1b29b66b",
   "metadata": {},
   "source": [
    "## Saving and Organizing Notebooks\n",
    "- Use `File > Save Notebook` or the save icon regularly\n",
    "- Notebooks are saved as `.ipynb` files\n",
    "- Use meaningful filenames and organize notebooks into folders (e.g., by module or topic)"
   ]
  },
  {
   "cell_type": "markdown",
   "id": "b6edb178",
   "metadata": {},
   "source": [
    "## Summary\n",
    "- Jupyter Lab provides a powerful interface for writing and organizing code\n",
    "- Learn to switch between code and markdown cells\n",
    "- Practice keyboard shortcuts to speed up your workflow\n",
    "\n",
    "You’re ready to begin writing code and documenting your work effectively."
   ]
  }
 ],
 "metadata": {
  "kernelspec": {
   "display_name": "Python [conda env:base] *",
   "language": "python",
   "name": "conda-base-py"
  },
  "language_info": {
   "codemirror_mode": {
    "name": "ipython",
    "version": 3
   },
   "file_extension": ".py",
   "mimetype": "text/x-python",
   "name": "python",
   "nbconvert_exporter": "python",
   "pygments_lexer": "ipython3",
   "version": "3.11.7"
  }
 },
 "nbformat": 4,
 "nbformat_minor": 5
}

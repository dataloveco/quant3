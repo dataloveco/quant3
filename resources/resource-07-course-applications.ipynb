{
 "cells": [
  {
   "cell_type": "markdown",
   "id": "e5d61b7e",
   "metadata": {},
   "source": [
    "# Resource 07: Course-Specific Applications\n",
    "This notebook demonstrates how to apply Python to real course assignments, including executive compensation analysis and regression modeling using `statsmodels`."
   ]
  },
  {
   "cell_type": "markdown",
   "id": "b86b2115",
   "metadata": {},
   "source": [
    "## Executive Compensation Analysis Example\n",
    "In this example, we simulate a small dataset similar to what you might analyze in Module 1."
   ]
  },
  {
   "cell_type": "code",
   "execution_count": null,
   "id": "b3b58b3d",
   "metadata": {},
   "outputs": [],
   "source": [
    "import pandas as pd\n",
    "\n",
    "exec_data = pd.DataFrame({\n",
    "    'ExecID': [1, 2, 3, 4],\n",
    "    'Company': ['A', 'B', 'C', 'D'],\n",
    "    'Salary': [800000, 950000, 700000, 880000],\n",
    "    'Bonus': [100000, 200000, 150000, 180000],\n",
    "    'TotalComp': [900000, 1150000, 850000, 1060000],\n",
    "    'ROA': [0.08, 0.10, 0.06, 0.09]\n",
    "})\n",
    "\n",
    "exec_data"
   ]
  },
  {
   "cell_type": "markdown",
   "id": "566f893c",
   "metadata": {},
   "source": [
    "### Explore the Data"
   ]
  },
  {
   "cell_type": "code",
   "execution_count": null,
   "id": "df25a191",
   "metadata": {},
   "outputs": [],
   "source": [
    "exec_data.describe()"
   ]
  },
  {
   "cell_type": "markdown",
   "id": "beb73da5",
   "metadata": {},
   "source": [
    "## Linear Regression with `statsmodels`\n",
    "We’ll model total compensation as a function of ROA."
   ]
  },
  {
   "cell_type": "code",
   "execution_count": null,
   "id": "ca48aa59",
   "metadata": {},
   "outputs": [],
   "source": [
    "import statsmodels.api as sm\n",
    "\n",
    "X = exec_data['ROA']\n",
    "y = exec_data['TotalComp']\n",
    "\n",
    "X = sm.add_constant(X)  # Add intercept term\n",
    "model = sm.OLS(y, X).fit()\n",
    "model.summary()"
   ]
  },
  {
   "cell_type": "markdown",
   "id": "25945cf8",
   "metadata": {},
   "source": [
    "## Interpreting the Output\n",
    "- `const`: baseline (intercept) value\n",
    "- `ROA`: estimated effect of return on assets on total compensation\n",
    "- `R-squared`: percentage of variation explained by the model"
   ]
  },
  {
   "cell_type": "markdown",
   "id": "566013eb",
   "metadata": {},
   "source": [
    "## Create a Plot of the Regression Line"
   ]
  },
  {
   "cell_type": "code",
   "execution_count": null,
   "id": "483328ff",
   "metadata": {},
   "outputs": [],
   "source": [
    "import matplotlib.pyplot as plt\n",
    "\n",
    "plt.scatter(exec_data['ROA'], exec_data['TotalComp'], label='Data')\n",
    "plt.plot(exec_data['ROA'], model.predict(X), color='red', label='Regression Line')\n",
    "plt.xlabel('ROA')\n",
    "plt.ylabel('Total Compensation')\n",
    "plt.legend()\n",
    "plt.title('Exec Comp vs. ROA')\n",
    "plt.show()"
   ]
  },
  {
   "cell_type": "markdown",
   "id": "17e801e6",
   "metadata": {},
   "source": [
    "## Try This Yourself\n",
    "- Change the independent variable to `Bonus`\n",
    "- Add a second variable like `Salary` to see if R-squared improves\n",
    "- Interpret the new coefficients"
   ]
  },
  {
   "cell_type": "markdown",
   "id": "f32841b7",
   "metadata": {},
   "source": [
    "## Summary\n",
    "- You used a real dataset structure to build a regression model\n",
    "- You interpreted results using `statsmodels`\n",
    "- You visualized the regression line\n",
    "\n",
    "This same structure can be used across multiple course modules."
   ]
  }
 ],
 "metadata": {},
 "nbformat": 4,
 "nbformat_minor": 5
}
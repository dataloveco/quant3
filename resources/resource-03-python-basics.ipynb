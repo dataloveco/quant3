{
 "cells": [
  {
   "cell_type": "markdown",
   "id": "2a10b2df",
   "metadata": {},
   "source": [
    "# Resource 03: Python Fundamentals for Finance\n",
    "This notebook introduces essential Python concepts, including variables, data types, loops, conditionals, and basic functions. These skills are foundational for working with financial data."
   ]
  },
  {
   "cell_type": "markdown",
   "id": "70063858",
   "metadata": {},
   "source": [
    "## Variables and Data Types\n",
    "Python supports several basic data types:\n",
    "\n",
    "- `int`: Integers\n",
    "- `float`: Decimal numbers\n",
    "- `str`: Text or string data\n",
    "- `bool`: Boolean values (`True` or `False`)\n",
    "\n",
    "You can assign values to variables like this:"
   ]
  },
  {
   "cell_type": "code",
   "execution_count": null,
   "id": "f084fda5",
   "metadata": {},
   "outputs": [],
   "source": [
    "company_name = \"Apple\"\n",
    "price = 195.33\n",
    "is_profitable = True\n",
    "number_of_employees = 161000"
   ]
  },
  {
   "cell_type": "markdown",
   "id": "10f1f7a2",
   "metadata": {},
   "source": [
    "## Lists and Dictionaries (Brief Intro)\n",
    "**List**: Ordered collection of items\n",
    "**Dictionary**: Key-value pairs\n"
   ]
  },
  {
   "cell_type": "code",
   "execution_count": null,
   "id": "aabbc165",
   "metadata": {},
   "outputs": [],
   "source": [
    "stock_prices = [100.5, 102.3, 105.7]\n",
    "company_info = {\"name\": \"Apple\", \"ticker\": \"AAPL\", \"sector\": \"Technology\"}"
   ]
  },
  {
   "cell_type": "markdown",
   "id": "036e132b",
   "metadata": {},
   "source": [
    "## Basic Math Operations\n",
    "You can use Python like a calculator."
   ]
  },
  {
   "cell_type": "code",
   "execution_count": null,
   "id": "e2105351",
   "metadata": {},
   "outputs": [],
   "source": [
    "revenue = 500_000\n",
    "expenses = 420_000\n",
    "profit = revenue - expenses\n",
    "profit_margin = profit / revenue\n",
    "print(\"Profit Margin:\", profit_margin)"
   ]
  },
  {
   "cell_type": "markdown",
   "id": "feba7d8a",
   "metadata": {},
   "source": [
    "## String Manipulation\n",
    "You can combine and format strings using the `+` operator or `f-strings`."
   ]
  },
  {
   "cell_type": "code",
   "execution_count": null,
   "id": "2a4a1929",
   "metadata": {},
   "outputs": [],
   "source": [
    "ceo = \"Tim Cook\"\n",
    "print(\"CEO: \" + ceo)\n",
    "print(f\"The CEO of {company_name} is {ceo}.\")"
   ]
  },
  {
   "cell_type": "markdown",
   "id": "124b0014",
   "metadata": {},
   "source": [
    "## Conditional Statements (if/else)\n",
    "These allow you to control the logic of your program."
   ]
  },
  {
   "cell_type": "code",
   "execution_count": null,
   "id": "e5e91d08",
   "metadata": {},
   "outputs": [],
   "source": [
    "if profit_margin > 0.1:\n",
    "    print(\"Good profit margin\")\n",
    "else:\n",
    "    print(\"Needs improvement\")"
   ]
  },
  {
   "cell_type": "markdown",
   "id": "cba430df",
   "metadata": {},
   "source": [
    "## Loops (for)\n",
    "Used for iterating over lists or ranges."
   ]
  },
  {
   "cell_type": "code",
   "execution_count": null,
   "id": "d51b451b",
   "metadata": {},
   "outputs": [],
   "source": [
    "for price in stock_prices:\n",
    "    print(f\"Price: {price}\")"
   ]
  },
  {
   "cell_type": "markdown",
   "id": "524ae92d",
   "metadata": {},
   "source": [
    "## Functions and Methods\n",
    "**Function**: Reusable block of code\n",
    "**Method**: Function that belongs to an object"
   ]
  },
  {
   "cell_type": "code",
   "execution_count": null,
   "id": "c135060f",
   "metadata": {},
   "outputs": [],
   "source": [
    "def calculate_return(start_price, end_price):\n",
    "    return (end_price - start_price) / start_price\n",
    "\n",
    "# Example\n",
    "r = calculate_return(100, 110)\n",
    "print(\"Return:\", r)"
   ]
  },
  {
   "cell_type": "markdown",
   "id": "acf94d60",
   "metadata": {},
   "source": [
    "## Reading Documentation\n",
    "Use the `help()` function or `?` to learn more about functions."
   ]
  },
  {
   "cell_type": "code",
   "execution_count": null,
   "id": "df8ac5e3",
   "metadata": {},
   "outputs": [],
   "source": [
    "help(print)"
   ]
  },
  {
   "cell_type": "markdown",
   "id": "d21cec2a",
   "metadata": {},
   "source": [
    "## Try This Yourself\n",
    "1. Create a variable for your favorite company's stock ticker.\n",
    "2. Calculate a made-up return from two prices.\n",
    "3. Use a loop to print each letter of the ticker."
   ]
  },
  {
   "cell_type": "markdown",
   "id": "7bb01de3",
   "metadata": {},
   "source": [
    "## Summary\n",
    "- Variables and basic types are the building blocks of Python\n",
    "- Use functions to structure your code\n",
    "- Loops and conditionals add power and logic to your scripts\n",
    "\n",
    "Up next: working with data using pandas and numpy."
   ]
  }
 ],
 "metadata": {},
 "nbformat": 4,
 "nbformat_minor": 5
}
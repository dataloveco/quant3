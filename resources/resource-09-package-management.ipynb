{
 "cells": [
  {
   "cell_type": "markdown",
   "id": "a5de0e20",
   "metadata": {},
   "source": [
    "# Resource 09: Package Management & Environment\n",
    "This notebook explains how to install Python packages, manage virtual environments, and handle dependency conflicts."
   ]
  },
  {
   "cell_type": "markdown",
   "id": "a481c8fb",
   "metadata": {},
   "source": [
    "## Installing Packages\n",
    "You can install packages using either `pip` (Python’s default package manager) or `conda` (if using Anaconda).\n",
    "\n",
    "### Using pip:\n",
    "```python\n",
    "!pip install pandas\n",
    "```\n",
    "\n",
    "### Using conda:\n",
    "```python\n",
    "!conda install pandas\n",
    "```"
   ]
  },
  {
   "cell_type": "markdown",
   "id": "c26b3541",
   "metadata": {},
   "source": [
    "## Checking Package Versions\n",
    "It’s important to know what version you're working with to avoid compatibility issues."
   ]
  },
  {
   "cell_type": "code",
   "execution_count": null,
   "id": "968b4ac0",
   "metadata": {},
   "outputs": [],
   "source": [
    "import pandas as pd\n",
    "print(pd.__version__)"
   ]
  },
  {
   "cell_type": "markdown",
   "id": "c239bb9b",
   "metadata": {},
   "source": [
    "## Creating a `requirements.txt` File\n",
    "This file lists all packages and versions for reproducibility.\n",
    "\n",
    "### Generate the file:\n",
    "```bash\n",
    "pip freeze > requirements.txt\n",
    "```\n",
    "\n",
    "### Install from it later:\n",
    "```bash\n",
    "pip install -r requirements.txt\n",
    "```"
   ]
  },
  {
   "cell_type": "markdown",
   "id": "1af9dab2",
   "metadata": {},
   "source": [
    "## Managing Virtual Environments\n",
    "Using virtual environments helps you isolate project dependencies.\n",
    "\n",
    "### With `venv` (standard Python):\n",
    "```bash\n",
    "python -m venv myenv\n",
    "source myenv/bin/activate  # Mac/Linux\n",
    "myenv\\Scripts\\activate    # Windows\n",
    "```\n",
    "\n",
    "### Deactivate:\n",
    "```bash\n",
    "deactivate\n",
    "```"
   ]
  },
  {
   "cell_type": "markdown",
   "id": "a94b1cfb",
   "metadata": {},
   "source": [
    "## Resolving Package Conflicts\n",
    "- Try upgrading/downgrading conflicting packages using `pip install package==version`\n",
    "- Consider creating a fresh virtual environment if issues persist\n",
    "- Use `pip check` to detect dependency conflicts"
   ]
  },
  {
   "cell_type": "markdown",
   "id": "cd4f5cbf",
   "metadata": {},
   "source": [
    "## Best Practices\n",
    "- Use `requirements.txt` for reproducibility\n",
    "- Avoid installing unnecessary packages\n",
    "- Document your environment setup in a README or notebook"
   ]
  },
  {
   "cell_type": "markdown",
   "id": "66b5f0d2",
   "metadata": {},
   "source": [
    "## Summary\n",
    "- Use `pip` or `conda` to manage packages\n",
    "- Create and activate virtual environments for project isolation\n",
    "- Use `requirements.txt` to share environments with teammates\n",
    "\n",
    "Final resource up next: creating polished presentations and reports."
   ]
  }
 ],
 "metadata": {},
 "nbformat": 4,
 "nbformat_minor": 5
}